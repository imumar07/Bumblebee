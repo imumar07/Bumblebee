{
  "nbformat": 4,
  "nbformat_minor": 0,
  "metadata": {
    "colab": {
      "provenance": [],
      "collapsed_sections": [],
      "authorship_tag": "ABX9TyNlNnAYl05dCi0QDDJA3bec",
      "include_colab_link": true
    },
    "kernelspec": {
      "name": "python3",
      "display_name": "Python 3"
    },
    "language_info": {
      "name": "python"
    }
  },
  "cells": [
    {
      "cell_type": "markdown",
      "metadata": {
        "id": "view-in-github",
        "colab_type": "text"
      },
      "source": [
        "<a href=\"https://colab.research.google.com/github/imumar07/Bumblebee/blob/main/sss.ipynb\" target=\"_parent\"><img src=\"https://colab.research.google.com/assets/colab-badge.svg\" alt=\"Open In Colab\"/></a>"
      ]
    },
    {
      "cell_type": "code",
      "execution_count": 2,
      "metadata": {
        "colab": {
          "base_uri": "https://localhost:8080/"
        },
        "id": "P_0mERrTtVRh",
        "outputId": "496cbaa6-a8f2-4946-e8b0-b2256590a5c5"
      },
      "outputs": [
        {
          "output_type": "stream",
          "name": "stdout",
          "text": [
            "Enter the a value:1\n",
            "Enter the b value:2\n",
            "Enetr the c value:3\n",
            "3 is bigger\n"
          ]
        }
      ],
      "source": [
        "a=int(input(\"Enter the a value:\"))\n",
        "b=int(input(\"Enter the b value:\")) \n",
        "c=int(input(\"Enetr the c value:\"))\n",
        "if(a>b and a>c):\n",
        "  print(a,\"is bigger\")\n",
        "elif(b>c):\n",
        "  print(b,\"is bigger\")\n",
        "else:\n",
        "  print(c,\"is bigger\")    "
      ]
    }
  ]
}